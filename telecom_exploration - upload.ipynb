{
 "cells": [
  {
   "cell_type": "code",
   "execution_count": 1,
   "metadata": {},
   "outputs": [],
   "source": [
    "import pandas as pd\n",
    "import numpy as np\n",
    "import matplotlib.pyplot as plt\n",
    "import seaborn as sns"
   ]
  },
  {
   "cell_type": "code",
   "execution_count": 2,
   "metadata": {},
   "outputs": [],
   "source": [
    "df = pd.read_csv(\"telecom_data.csv\")"
   ]
  },
  {
   "cell_type": "code",
   "execution_count": 3,
   "metadata": {},
   "outputs": [
    {
     "data": {
      "text/html": [
       "<div>\n",
       "<style scoped>\n",
       "    .dataframe tbody tr th:only-of-type {\n",
       "        vertical-align: middle;\n",
       "    }\n",
       "\n",
       "    .dataframe tbody tr th {\n",
       "        vertical-align: top;\n",
       "    }\n",
       "\n",
       "    .dataframe thead th {\n",
       "        text-align: right;\n",
       "    }\n",
       "</style>\n",
       "<table border=\"1\" class=\"dataframe\">\n",
       "  <thead>\n",
       "    <tr style=\"text-align: right;\">\n",
       "      <th></th>\n",
       "      <th>Customer ID</th>\n",
       "      <th>Churn Label</th>\n",
       "      <th>Account Length (in months)</th>\n",
       "      <th>Local Calls</th>\n",
       "      <th>Local Mins</th>\n",
       "      <th>Intl Calls</th>\n",
       "      <th>Intl Mins</th>\n",
       "      <th>Intl Active</th>\n",
       "      <th>Intl Plan</th>\n",
       "      <th>Extra International Charges</th>\n",
       "      <th>...</th>\n",
       "      <th>Senior</th>\n",
       "      <th>Group</th>\n",
       "      <th>Number of Customers in Group</th>\n",
       "      <th>Device Protection &amp; Online Backup</th>\n",
       "      <th>Contract Type</th>\n",
       "      <th>Payment Method</th>\n",
       "      <th>Monthly Charge</th>\n",
       "      <th>Total Charges</th>\n",
       "      <th>Churn Category</th>\n",
       "      <th>Churn Reason</th>\n",
       "    </tr>\n",
       "  </thead>\n",
       "  <tbody>\n",
       "    <tr>\n",
       "      <th>0</th>\n",
       "      <td>4444-BZPU</td>\n",
       "      <td>No</td>\n",
       "      <td>1</td>\n",
       "      <td>3</td>\n",
       "      <td>8.0</td>\n",
       "      <td>0.0</td>\n",
       "      <td>0.0</td>\n",
       "      <td>No</td>\n",
       "      <td>no</td>\n",
       "      <td>0.0</td>\n",
       "      <td>...</td>\n",
       "      <td>No</td>\n",
       "      <td>No</td>\n",
       "      <td>0</td>\n",
       "      <td>No</td>\n",
       "      <td>Month-to-Month</td>\n",
       "      <td>Direct Debit</td>\n",
       "      <td>10</td>\n",
       "      <td>10</td>\n",
       "      <td>NaN</td>\n",
       "      <td>NaN</td>\n",
       "    </tr>\n",
       "    <tr>\n",
       "      <th>1</th>\n",
       "      <td>5676-PTZX</td>\n",
       "      <td>No</td>\n",
       "      <td>33</td>\n",
       "      <td>179</td>\n",
       "      <td>431.3</td>\n",
       "      <td>0.0</td>\n",
       "      <td>0.0</td>\n",
       "      <td>No</td>\n",
       "      <td>no</td>\n",
       "      <td>0.0</td>\n",
       "      <td>...</td>\n",
       "      <td>No</td>\n",
       "      <td>No</td>\n",
       "      <td>0</td>\n",
       "      <td>Yes</td>\n",
       "      <td>One Year</td>\n",
       "      <td>Paper Check</td>\n",
       "      <td>21</td>\n",
       "      <td>703</td>\n",
       "      <td>NaN</td>\n",
       "      <td>NaN</td>\n",
       "    </tr>\n",
       "    <tr>\n",
       "      <th>2</th>\n",
       "      <td>8532-ZEKQ</td>\n",
       "      <td>No</td>\n",
       "      <td>44</td>\n",
       "      <td>82</td>\n",
       "      <td>217.6</td>\n",
       "      <td>0.0</td>\n",
       "      <td>0.0</td>\n",
       "      <td>No</td>\n",
       "      <td>yes</td>\n",
       "      <td>0.0</td>\n",
       "      <td>...</td>\n",
       "      <td>No</td>\n",
       "      <td>No</td>\n",
       "      <td>0</td>\n",
       "      <td>Yes</td>\n",
       "      <td>One Year</td>\n",
       "      <td>Direct Debit</td>\n",
       "      <td>23</td>\n",
       "      <td>1014</td>\n",
       "      <td>NaN</td>\n",
       "      <td>NaN</td>\n",
       "    </tr>\n",
       "    <tr>\n",
       "      <th>3</th>\n",
       "      <td>1314-SMPJ</td>\n",
       "      <td>No</td>\n",
       "      <td>10</td>\n",
       "      <td>47</td>\n",
       "      <td>111.6</td>\n",
       "      <td>60.0</td>\n",
       "      <td>71.0</td>\n",
       "      <td>Yes</td>\n",
       "      <td>yes</td>\n",
       "      <td>0.0</td>\n",
       "      <td>...</td>\n",
       "      <td>No</td>\n",
       "      <td>No</td>\n",
       "      <td>0</td>\n",
       "      <td>No</td>\n",
       "      <td>Month-to-Month</td>\n",
       "      <td>Paper Check</td>\n",
       "      <td>17</td>\n",
       "      <td>177</td>\n",
       "      <td>NaN</td>\n",
       "      <td>NaN</td>\n",
       "    </tr>\n",
       "    <tr>\n",
       "      <th>4</th>\n",
       "      <td>2956-TXCJ</td>\n",
       "      <td>No</td>\n",
       "      <td>62</td>\n",
       "      <td>184</td>\n",
       "      <td>621.2</td>\n",
       "      <td>310.0</td>\n",
       "      <td>694.4</td>\n",
       "      <td>Yes</td>\n",
       "      <td>yes</td>\n",
       "      <td>0.0</td>\n",
       "      <td>...</td>\n",
       "      <td>No</td>\n",
       "      <td>No</td>\n",
       "      <td>0</td>\n",
       "      <td>No</td>\n",
       "      <td>One Year</td>\n",
       "      <td>Direct Debit</td>\n",
       "      <td>28</td>\n",
       "      <td>1720</td>\n",
       "      <td>NaN</td>\n",
       "      <td>NaN</td>\n",
       "    </tr>\n",
       "  </tbody>\n",
       "</table>\n",
       "<p>5 rows × 29 columns</p>\n",
       "</div>"
      ],
      "text/plain": [
       "  Customer ID Churn Label  Account Length (in months)  Local Calls  \\\n",
       "0   4444-BZPU          No                           1            3   \n",
       "1   5676-PTZX          No                          33          179   \n",
       "2   8532-ZEKQ          No                          44           82   \n",
       "3   1314-SMPJ          No                          10           47   \n",
       "4   2956-TXCJ          No                          62          184   \n",
       "\n",
       "   Local Mins  Intl Calls  Intl Mins Intl Active Intl Plan  \\\n",
       "0         8.0         0.0        0.0          No        no   \n",
       "1       431.3         0.0        0.0          No        no   \n",
       "2       217.6         0.0        0.0          No       yes   \n",
       "3       111.6        60.0       71.0         Yes       yes   \n",
       "4       621.2       310.0      694.4         Yes       yes   \n",
       "\n",
       "   Extra International Charges  ...  Senior  Group  \\\n",
       "0                          0.0  ...      No     No   \n",
       "1                          0.0  ...      No     No   \n",
       "2                          0.0  ...      No     No   \n",
       "3                          0.0  ...      No     No   \n",
       "4                          0.0  ...      No     No   \n",
       "\n",
       "  Number of Customers in Group  Device Protection & Online Backup  \\\n",
       "0                            0                                 No   \n",
       "1                            0                                Yes   \n",
       "2                            0                                Yes   \n",
       "3                            0                                 No   \n",
       "4                            0                                 No   \n",
       "\n",
       "    Contract Type Payment Method Monthly Charge  Total Charges Churn Category  \\\n",
       "0  Month-to-Month   Direct Debit             10             10            NaN   \n",
       "1        One Year    Paper Check             21            703            NaN   \n",
       "2        One Year   Direct Debit             23           1014            NaN   \n",
       "3  Month-to-Month    Paper Check             17            177            NaN   \n",
       "4        One Year   Direct Debit             28           1720            NaN   \n",
       "\n",
       "  Churn Reason  \n",
       "0          NaN  \n",
       "1          NaN  \n",
       "2          NaN  \n",
       "3          NaN  \n",
       "4          NaN  \n",
       "\n",
       "[5 rows x 29 columns]"
      ]
     },
     "execution_count": 3,
     "metadata": {},
     "output_type": "execute_result"
    }
   ],
   "source": [
    "df.head()"
   ]
  },
  {
   "cell_type": "code",
   "execution_count": 4,
   "metadata": {},
   "outputs": [
    {
     "name": "stdout",
     "output_type": "stream",
     "text": [
      "<class 'pandas.core.frame.DataFrame'>\n",
      "RangeIndex: 6687 entries, 0 to 6686\n",
      "Data columns (total 29 columns):\n",
      " #   Column                             Non-Null Count  Dtype  \n",
      "---  ------                             --------------  -----  \n",
      " 0   Customer ID                        6687 non-null   object \n",
      " 1   Churn Label                        6687 non-null   object \n",
      " 2   Account Length (in months)         6687 non-null   int64  \n",
      " 3   Local Calls                        6687 non-null   int64  \n",
      " 4   Local Mins                         6687 non-null   float64\n",
      " 5   Intl Calls                         6687 non-null   float64\n",
      " 6   Intl Mins                          6687 non-null   float64\n",
      " 7   Intl Active                        6687 non-null   object \n",
      " 8   Intl Plan                          6687 non-null   object \n",
      " 9   Extra International Charges        6687 non-null   float64\n",
      " 10  Customer Service Calls             6687 non-null   int64  \n",
      " 11  Avg Monthly GB Download            6687 non-null   int64  \n",
      " 12  Unlimited Data Plan                6687 non-null   object \n",
      " 13  Extra Data Charges                 6687 non-null   int64  \n",
      " 14  State                              6687 non-null   object \n",
      " 15  Phone Number                       6687 non-null   object \n",
      " 16  Gender                             6687 non-null   object \n",
      " 17  Age                                6687 non-null   int64  \n",
      " 18  Under 30                           6687 non-null   object \n",
      " 19  Senior                             6687 non-null   object \n",
      " 20  Group                              6687 non-null   object \n",
      " 21  Number of Customers in Group       6687 non-null   int64  \n",
      " 22  Device Protection & Online Backup  6687 non-null   object \n",
      " 23  Contract Type                      6687 non-null   object \n",
      " 24  Payment Method                     6687 non-null   object \n",
      " 25  Monthly Charge                     6687 non-null   int64  \n",
      " 26  Total Charges                      6687 non-null   int64  \n",
      " 27  Churn Category                     1769 non-null   object \n",
      " 28  Churn Reason                       1769 non-null   object \n",
      "dtypes: float64(4), int64(9), object(16)\n",
      "memory usage: 1.5+ MB\n"
     ]
    }
   ],
   "source": [
    "df.info()"
   ]
  },
  {
   "cell_type": "code",
   "execution_count": 5,
   "metadata": {},
   "outputs": [
    {
     "data": {
      "text/plain": [
       "(6687, 29)"
      ]
     },
     "execution_count": 5,
     "metadata": {},
     "output_type": "execute_result"
    }
   ],
   "source": [
    "df.shape"
   ]
  },
  {
   "cell_type": "code",
   "execution_count": 6,
   "metadata": {},
   "outputs": [
    {
     "data": {
      "text/plain": [
       "0"
      ]
     },
     "execution_count": 6,
     "metadata": {},
     "output_type": "execute_result"
    }
   ],
   "source": [
    "df.duplicated().sum()"
   ]
  },
  {
   "cell_type": "code",
   "execution_count": 7,
   "metadata": {},
   "outputs": [
    {
     "data": {
      "text/plain": [
       "Churn Category    73.545686\n",
       "Churn Reason      73.545686\n",
       "dtype: float64"
      ]
     },
     "execution_count": 7,
     "metadata": {},
     "output_type": "execute_result"
    }
   ],
   "source": [
    "df.isnull().sum()[df.isnull().sum()>1]/len(df) *100"
   ]
  },
  {
   "cell_type": "code",
   "execution_count": 8,
   "metadata": {},
   "outputs": [
    {
     "data": {
      "text/plain": [
       "array([nan, 'Competitor', 'Other', 'Attitude', 'Dissatisfaction', 'Price'],\n",
       "      dtype=object)"
      ]
     },
     "execution_count": 8,
     "metadata": {},
     "output_type": "execute_result"
    }
   ],
   "source": [
    "df['Churn Category'].unique()"
   ]
  },
  {
   "cell_type": "code",
   "execution_count": 9,
   "metadata": {},
   "outputs": [
    {
     "data": {
      "text/plain": [
       "4918"
      ]
     },
     "execution_count": 9,
     "metadata": {},
     "output_type": "execute_result"
    }
   ],
   "source": [
    "df[df['Churn Category'].isnull()]['Churn Category'].isnull().sum()"
   ]
  },
  {
   "cell_type": "code",
   "execution_count": 10,
   "metadata": {},
   "outputs": [
    {
     "data": {
      "text/plain": [
       "(4891, 29)"
      ]
     },
     "execution_count": 10,
     "metadata": {},
     "output_type": "execute_result"
    }
   ],
   "source": [
    "df[df['Churn Label'] == 'No'].shape"
   ]
  },
  {
   "cell_type": "code",
   "execution_count": 11,
   "metadata": {},
   "outputs": [
    {
     "data": {
      "text/plain": [
       "(1796, 29)"
      ]
     },
     "execution_count": 11,
     "metadata": {},
     "output_type": "execute_result"
    }
   ],
   "source": [
    "df[df['Churn Label'] == 'Yes'].shape"
   ]
  },
  {
   "cell_type": "code",
   "execution_count": 12,
   "metadata": {},
   "outputs": [
    {
     "data": {
      "text/plain": [
       "4891"
      ]
     },
     "execution_count": 12,
     "metadata": {},
     "output_type": "execute_result"
    }
   ],
   "source": [
    "df[df['Churn Label'] == 'No']['Churn Category'].isnull().sum()"
   ]
  },
  {
   "cell_type": "code",
   "execution_count": 13,
   "metadata": {},
   "outputs": [
    {
     "data": {
      "text/plain": [
       "Churn Category\n",
       "Competitor         44.821826\n",
       "Attitude           15.979955\n",
       "Dissatisfaction    15.924276\n",
       "Price              11.135857\n",
       "Other              10.634744\n",
       "NaN                 1.503341\n",
       "Name: proportion, dtype: float64"
      ]
     },
     "execution_count": 13,
     "metadata": {},
     "output_type": "execute_result"
    }
   ],
   "source": [
    "df[df['Churn Label'] == 'Yes']['Churn Category'].value_counts(normalize=True, dropna=False) * 100"
   ]
  },
  {
   "cell_type": "code",
   "execution_count": 14,
   "metadata": {},
   "outputs": [
    {
     "data": {
      "text/plain": [
       "Churn Reason\n",
       "Competitor made better offer                 16.870824\n",
       "Competitor had better devices                16.536748\n",
       "Attitude of support person                   11.302895\n",
       "Don't know                                    6.848552\n",
       "Competitor offered more data                  6.124722\n",
       "Competitor offered higher download speeds     5.289532\n",
       "Attitude of service provider                  4.677060\n",
       "Price too high                                4.120267\n",
       "Product dissatisfaction                       4.064588\n",
       "Network reliability                           3.841871\n",
       "Long distance charges                         3.396437\n",
       "Service dissatisfaction                       3.340757\n",
       "Moved                                         2.449889\n",
       "Extra data charges                            2.060134\n",
       "Limited range of services                     1.948775\n",
       "Poor expertise of online support              1.670379\n",
       "Lack of affordable download/upload speed      1.559020\n",
       "NaN                                           1.503341\n",
       "Lack of self-service on Website               1.447661\n",
       "Poor expertise of phone support               0.612472\n",
       "Deceased                                      0.334076\n",
       "Name: proportion, dtype: float64"
      ]
     },
     "execution_count": 14,
     "metadata": {},
     "output_type": "execute_result"
    }
   ],
   "source": [
    "df[df['Churn Label'] == 'Yes']['Churn Reason'].value_counts(normalize=True, dropna=False) * 100"
   ]
  },
  {
   "cell_type": "code",
   "execution_count": 15,
   "metadata": {},
   "outputs": [],
   "source": [
    "# Filter rows where 'churn category' is 'Voluntary' and 'churn reason' is missing\n",
    "mask = (df['Churn Label'] == 'Yes') & (df['Churn Reason'].isna())"
   ]
  },
  {
   "cell_type": "code",
   "execution_count": 16,
   "metadata": {},
   "outputs": [
    {
     "data": {
      "text/plain": [
       "(6660, 29)"
      ]
     },
     "execution_count": 16,
     "metadata": {},
     "output_type": "execute_result"
    }
   ],
   "source": [
    "# Drop the rows\n",
    "df_cleaned = df[~mask]\n",
    "df_cleaned.shape\n"
   ]
  },
  {
   "cell_type": "code",
   "execution_count": 17,
   "metadata": {},
   "outputs": [
    {
     "data": {
      "text/plain": [
       "(6687, 29)"
      ]
     },
     "execution_count": 17,
     "metadata": {},
     "output_type": "execute_result"
    }
   ],
   "source": [
    "df.shape"
   ]
  },
  {
   "cell_type": "code",
   "execution_count": 18,
   "metadata": {},
   "outputs": [
    {
     "data": {
      "text/plain": [
       "Churn Reason\n",
       "Competitor made better offer                 17.128321\n",
       "Competitor had better devices                16.789146\n",
       "Attitude of support person                   11.475410\n",
       "Don't know                                    6.953081\n",
       "Competitor offered more data                  6.218202\n",
       "Competitor offered higher download speeds     5.370266\n",
       "Attitude of service provider                  4.748445\n",
       "Price too high                                4.183154\n",
       "Product dissatisfaction                       4.126625\n",
       "Network reliability                           3.900509\n",
       "Long distance charges                         3.448276\n",
       "Service dissatisfaction                       3.391747\n",
       "Moved                                         2.487281\n",
       "Extra data charges                            2.091577\n",
       "Limited range of services                     1.978519\n",
       "Poor expertise of online support              1.695873\n",
       "Lack of affordable download/upload speed      1.582815\n",
       "Lack of self-service on Website               1.469757\n",
       "Poor expertise of phone support               0.621820\n",
       "Deceased                                      0.339175\n",
       "Name: proportion, dtype: float64"
      ]
     },
     "execution_count": 18,
     "metadata": {},
     "output_type": "execute_result"
    }
   ],
   "source": [
    "df_cleaned[df_cleaned['Churn Label'] == 'Yes']['Churn Reason'].value_counts(normalize=True, dropna=False) * 100"
   ]
  },
  {
   "cell_type": "code",
   "execution_count": 19,
   "metadata": {},
   "outputs": [
    {
     "data": {
      "text/plain": [
       "Churn Reason\n",
       "NaN    100.0\n",
       "Name: proportion, dtype: float64"
      ]
     },
     "execution_count": 19,
     "metadata": {},
     "output_type": "execute_result"
    }
   ],
   "source": [
    "df_cleaned[df_cleaned['Churn Label'] == 'No']['Churn Reason'].value_counts(normalize=True, dropna=False) * 100"
   ]
  },
  {
   "cell_type": "code",
   "execution_count": 20,
   "metadata": {},
   "outputs": [],
   "source": [
    "#The above result makes absolute sense since the missing values are all the active customers should have"
   ]
  },
  {
   "cell_type": "code",
   "execution_count": 21,
   "metadata": {},
   "outputs": [],
   "source": [
    "df_cleaned.loc[:,'Churn Category'] = df_cleaned['Churn Category'].fillna('Not Churned')\n"
   ]
  },
  {
   "cell_type": "code",
   "execution_count": 22,
   "metadata": {},
   "outputs": [],
   "source": [
    "df_cleaned.loc[:,'Churn Reason'] = df_cleaned['Churn Reason'].fillna('No Reason')"
   ]
  },
  {
   "cell_type": "code",
   "execution_count": 23,
   "metadata": {},
   "outputs": [
    {
     "data": {
      "text/plain": [
       "Series([], dtype: int64)"
      ]
     },
     "execution_count": 23,
     "metadata": {},
     "output_type": "execute_result"
    }
   ],
   "source": [
    "df_cleaned.isnull().sum()[df_cleaned.isnull().sum() > 0] "
   ]
  },
  {
   "cell_type": "code",
   "execution_count": 24,
   "metadata": {},
   "outputs": [
    {
     "data": {
      "text/plain": [
       "3"
      ]
     },
     "execution_count": 24,
     "metadata": {},
     "output_type": "execute_result"
    }
   ],
   "source": [
    "df_cleaned['Gender'].nunique()"
   ]
  },
  {
   "cell_type": "markdown",
   "metadata": {},
   "source": [
    "### Data Preprocessing and Transformation"
   ]
  },
  {
   "cell_type": "code",
   "execution_count": 25,
   "metadata": {},
   "outputs": [],
   "source": [
    "df_cleaned.columns = df_cleaned.columns.str.lower()"
   ]
  },
  {
   "cell_type": "code",
   "execution_count": 26,
   "metadata": {},
   "outputs": [
    {
     "data": {
      "text/plain": [
       "Index(['customer id', 'churn label', 'account length (in months)',\n",
       "       'local calls', 'local mins', 'intl calls', 'intl mins', 'intl active',\n",
       "       'intl plan', 'extra international charges', 'customer service calls',\n",
       "       'avg monthly gb download', 'unlimited data plan', 'extra data charges',\n",
       "       'state', 'phone number', 'gender', 'age', 'under 30', 'senior', 'group',\n",
       "       'number of customers in group', 'device protection & online backup',\n",
       "       'contract type', 'payment method', 'monthly charge', 'total charges',\n",
       "       'churn category', 'churn reason'],\n",
       "      dtype='object')"
      ]
     },
     "execution_count": 26,
     "metadata": {},
     "output_type": "execute_result"
    }
   ],
   "source": [
    "df_cleaned.columns"
   ]
  },
  {
   "cell_type": "markdown",
   "metadata": {},
   "source": [
    "**Since there's an age column, i'll drop under 30 and senior columns**"
   ]
  },
  {
   "cell_type": "code",
   "execution_count": 27,
   "metadata": {},
   "outputs": [
    {
     "name": "stderr",
     "output_type": "stream",
     "text": [
      "C:\\Users\\DELL\\AppData\\Local\\Temp\\ipykernel_3076\\3257213617.py:1: SettingWithCopyWarning: \n",
      "A value is trying to be set on a copy of a slice from a DataFrame\n",
      "\n",
      "See the caveats in the documentation: https://pandas.pydata.org/pandas-docs/stable/user_guide/indexing.html#returning-a-view-versus-a-copy\n",
      "  df_cleaned.drop(columns=['under 30', 'senior'], inplace=True)\n"
     ]
    }
   ],
   "source": [
    "df_cleaned.drop(columns=['under 30', 'senior'], inplace=True)"
   ]
  },
  {
   "cell_type": "code",
   "execution_count": 28,
   "metadata": {},
   "outputs": [
    {
     "data": {
      "text/plain": [
       "(6660, 27)"
      ]
     },
     "execution_count": 28,
     "metadata": {},
     "output_type": "execute_result"
    }
   ],
   "source": [
    "df_cleaned.shape"
   ]
  },
  {
   "cell_type": "code",
   "execution_count": 29,
   "metadata": {},
   "outputs": [],
   "source": [
    "numeric_columns = df_cleaned.select_dtypes('number').columns.to_list()"
   ]
  },
  {
   "cell_type": "code",
   "execution_count": 31,
   "metadata": {},
   "outputs": [],
   "source": [
    "cols_with_less_than_6_values = []\n",
    "def checkColumns_6Values(df):\n",
    "    cat_columns = df.select_dtypes('object').columns.to_list()\n",
    "    for col in cat_columns:\n",
    "        if df[col].nunique() < 6:\n",
    "            cols_with_less_than_6_values.append(col)\n",
    "        else:\n",
    "            continue"
   ]
  },
  {
   "cell_type": "code",
   "execution_count": 32,
   "metadata": {},
   "outputs": [],
   "source": [
    "checkColumns_6Values(df_cleaned)"
   ]
  },
  {
   "cell_type": "code",
   "execution_count": 33,
   "metadata": {},
   "outputs": [
    {
     "data": {
      "text/plain": [
       "['churn label',\n",
       " 'intl active',\n",
       " 'intl plan',\n",
       " 'unlimited data plan',\n",
       " 'gender',\n",
       " 'group',\n",
       " 'device protection & online backup',\n",
       " 'contract type',\n",
       " 'payment method']"
      ]
     },
     "execution_count": 33,
     "metadata": {},
     "output_type": "execute_result"
    }
   ],
   "source": [
    "cols_with_less_than_6_values"
   ]
  },
  {
   "cell_type": "code",
   "execution_count": 34,
   "metadata": {},
   "outputs": [],
   "source": [
    "cols_with_2_values = []\n",
    "def checkColumns_2Values(df):\n",
    "    cat_columns = df.select_dtypes('object').columns.to_list()\n",
    "    for cols in cat_columns:\n",
    "        if df[cols].nunique() == 2:\n",
    "            cols_with_2_values.append(cols)\n",
    "        else:\n",
    "            continue"
   ]
  },
  {
   "cell_type": "code",
   "execution_count": 35,
   "metadata": {},
   "outputs": [],
   "source": [
    "checkColumns_2Values(df_cleaned)"
   ]
  },
  {
   "cell_type": "code",
   "execution_count": 36,
   "metadata": {},
   "outputs": [
    {
     "data": {
      "text/plain": [
       "['churn label',\n",
       " 'intl active',\n",
       " 'intl plan',\n",
       " 'unlimited data plan',\n",
       " 'group',\n",
       " 'device protection & online backup']"
      ]
     },
     "execution_count": 36,
     "metadata": {},
     "output_type": "execute_result"
    }
   ],
   "source": [
    "cols_with_2_values"
   ]
  },
  {
   "cell_type": "code",
   "execution_count": 37,
   "metadata": {},
   "outputs": [
    {
     "data": {
      "text/html": [
       "<div>\n",
       "<style scoped>\n",
       "    .dataframe tbody tr th:only-of-type {\n",
       "        vertical-align: middle;\n",
       "    }\n",
       "\n",
       "    .dataframe tbody tr th {\n",
       "        vertical-align: top;\n",
       "    }\n",
       "\n",
       "    .dataframe thead th {\n",
       "        text-align: right;\n",
       "    }\n",
       "</style>\n",
       "<table border=\"1\" class=\"dataframe\">\n",
       "  <thead>\n",
       "    <tr style=\"text-align: right;\">\n",
       "      <th></th>\n",
       "      <th>churn label</th>\n",
       "      <th>intl active</th>\n",
       "      <th>intl plan</th>\n",
       "      <th>unlimited data plan</th>\n",
       "      <th>group</th>\n",
       "      <th>device protection &amp; online backup</th>\n",
       "    </tr>\n",
       "  </thead>\n",
       "  <tbody>\n",
       "    <tr>\n",
       "      <th>0</th>\n",
       "      <td>No</td>\n",
       "      <td>No</td>\n",
       "      <td>no</td>\n",
       "      <td>Yes</td>\n",
       "      <td>No</td>\n",
       "      <td>No</td>\n",
       "    </tr>\n",
       "    <tr>\n",
       "      <th>1</th>\n",
       "      <td>No</td>\n",
       "      <td>No</td>\n",
       "      <td>no</td>\n",
       "      <td>Yes</td>\n",
       "      <td>No</td>\n",
       "      <td>Yes</td>\n",
       "    </tr>\n",
       "    <tr>\n",
       "      <th>2</th>\n",
       "      <td>No</td>\n",
       "      <td>No</td>\n",
       "      <td>yes</td>\n",
       "      <td>Yes</td>\n",
       "      <td>No</td>\n",
       "      <td>Yes</td>\n",
       "    </tr>\n",
       "    <tr>\n",
       "      <th>3</th>\n",
       "      <td>No</td>\n",
       "      <td>Yes</td>\n",
       "      <td>yes</td>\n",
       "      <td>Yes</td>\n",
       "      <td>No</td>\n",
       "      <td>No</td>\n",
       "    </tr>\n",
       "    <tr>\n",
       "      <th>4</th>\n",
       "      <td>No</td>\n",
       "      <td>Yes</td>\n",
       "      <td>yes</td>\n",
       "      <td>Yes</td>\n",
       "      <td>No</td>\n",
       "      <td>No</td>\n",
       "    </tr>\n",
       "  </tbody>\n",
       "</table>\n",
       "</div>"
      ],
      "text/plain": [
       "  churn label intl active intl plan unlimited data plan group  \\\n",
       "0          No          No        no                 Yes    No   \n",
       "1          No          No        no                 Yes    No   \n",
       "2          No          No       yes                 Yes    No   \n",
       "3          No         Yes       yes                 Yes    No   \n",
       "4          No         Yes       yes                 Yes    No   \n",
       "\n",
       "  device protection & online backup  \n",
       "0                                No  \n",
       "1                               Yes  \n",
       "2                               Yes  \n",
       "3                                No  \n",
       "4                                No  "
      ]
     },
     "execution_count": 37,
     "metadata": {},
     "output_type": "execute_result"
    }
   ],
   "source": [
    "df_cleaned[cols_with_2_values].head()"
   ]
  },
  {
   "cell_type": "markdown",
   "metadata": {},
   "source": [
    "#### **Check columns with Yes and No and replace them with 1 and 0, where 1 represents Yes and 0 represents No**"
   ]
  },
  {
   "cell_type": "code",
   "execution_count": 38,
   "metadata": {},
   "outputs": [
    {
     "name": "stderr",
     "output_type": "stream",
     "text": [
      "C:\\Users\\DELL\\AppData\\Local\\Temp\\ipykernel_3076\\860080666.py:4: SettingWithCopyWarning: \n",
      "A value is trying to be set on a copy of a slice from a DataFrame.\n",
      "Try using .loc[row_indexer,col_indexer] = value instead\n",
      "\n",
      "See the caveats in the documentation: https://pandas.pydata.org/pandas-docs/stable/user_guide/indexing.html#returning-a-view-versus-a-copy\n",
      "  df_cleaned[col] = df_cleaned[col].astype(\"int\")\n",
      "C:\\Users\\DELL\\AppData\\Local\\Temp\\ipykernel_3076\\860080666.py:4: SettingWithCopyWarning: \n",
      "A value is trying to be set on a copy of a slice from a DataFrame.\n",
      "Try using .loc[row_indexer,col_indexer] = value instead\n",
      "\n",
      "See the caveats in the documentation: https://pandas.pydata.org/pandas-docs/stable/user_guide/indexing.html#returning-a-view-versus-a-copy\n",
      "  df_cleaned[col] = df_cleaned[col].astype(\"int\")\n",
      "C:\\Users\\DELL\\AppData\\Local\\Temp\\ipykernel_3076\\860080666.py:4: SettingWithCopyWarning: \n",
      "A value is trying to be set on a copy of a slice from a DataFrame.\n",
      "Try using .loc[row_indexer,col_indexer] = value instead\n",
      "\n",
      "See the caveats in the documentation: https://pandas.pydata.org/pandas-docs/stable/user_guide/indexing.html#returning-a-view-versus-a-copy\n",
      "  df_cleaned[col] = df_cleaned[col].astype(\"int\")\n",
      "C:\\Users\\DELL\\AppData\\Local\\Temp\\ipykernel_3076\\860080666.py:4: SettingWithCopyWarning: \n",
      "A value is trying to be set on a copy of a slice from a DataFrame.\n",
      "Try using .loc[row_indexer,col_indexer] = value instead\n",
      "\n",
      "See the caveats in the documentation: https://pandas.pydata.org/pandas-docs/stable/user_guide/indexing.html#returning-a-view-versus-a-copy\n",
      "  df_cleaned[col] = df_cleaned[col].astype(\"int\")\n",
      "C:\\Users\\DELL\\AppData\\Local\\Temp\\ipykernel_3076\\860080666.py:4: SettingWithCopyWarning: \n",
      "A value is trying to be set on a copy of a slice from a DataFrame.\n",
      "Try using .loc[row_indexer,col_indexer] = value instead\n",
      "\n",
      "See the caveats in the documentation: https://pandas.pydata.org/pandas-docs/stable/user_guide/indexing.html#returning-a-view-versus-a-copy\n",
      "  df_cleaned[col] = df_cleaned[col].astype(\"int\")\n",
      "C:\\Users\\DELL\\AppData\\Local\\Temp\\ipykernel_3076\\860080666.py:4: SettingWithCopyWarning: \n",
      "A value is trying to be set on a copy of a slice from a DataFrame.\n",
      "Try using .loc[row_indexer,col_indexer] = value instead\n",
      "\n",
      "See the caveats in the documentation: https://pandas.pydata.org/pandas-docs/stable/user_guide/indexing.html#returning-a-view-versus-a-copy\n",
      "  df_cleaned[col] = df_cleaned[col].astype(\"int\")\n"
     ]
    }
   ],
   "source": [
    "for col in cols_with_2_values:\n",
    "    if df_cleaned[col].str.contains('yes', case=False).any():\n",
    "        df_cleaned.loc[:,col] = df_cleaned[col].replace({\"Yes\":1, \"No\":0, \"yes\":1, \"no\":0})\n",
    "        df_cleaned[col] = df_cleaned[col].astype(\"int\")"
   ]
  },
  {
   "cell_type": "code",
   "execution_count": 39,
   "metadata": {},
   "outputs": [
    {
     "data": {
      "text/html": [
       "<div>\n",
       "<style scoped>\n",
       "    .dataframe tbody tr th:only-of-type {\n",
       "        vertical-align: middle;\n",
       "    }\n",
       "\n",
       "    .dataframe tbody tr th {\n",
       "        vertical-align: top;\n",
       "    }\n",
       "\n",
       "    .dataframe thead th {\n",
       "        text-align: right;\n",
       "    }\n",
       "</style>\n",
       "<table border=\"1\" class=\"dataframe\">\n",
       "  <thead>\n",
       "    <tr style=\"text-align: right;\">\n",
       "      <th></th>\n",
       "      <th>churn label</th>\n",
       "      <th>intl active</th>\n",
       "      <th>intl plan</th>\n",
       "      <th>unlimited data plan</th>\n",
       "      <th>group</th>\n",
       "      <th>device protection &amp; online backup</th>\n",
       "    </tr>\n",
       "  </thead>\n",
       "  <tbody>\n",
       "    <tr>\n",
       "      <th>0</th>\n",
       "      <td>0</td>\n",
       "      <td>0</td>\n",
       "      <td>0</td>\n",
       "      <td>1</td>\n",
       "      <td>0</td>\n",
       "      <td>0</td>\n",
       "    </tr>\n",
       "    <tr>\n",
       "      <th>1</th>\n",
       "      <td>0</td>\n",
       "      <td>0</td>\n",
       "      <td>0</td>\n",
       "      <td>1</td>\n",
       "      <td>0</td>\n",
       "      <td>1</td>\n",
       "    </tr>\n",
       "    <tr>\n",
       "      <th>2</th>\n",
       "      <td>0</td>\n",
       "      <td>0</td>\n",
       "      <td>1</td>\n",
       "      <td>1</td>\n",
       "      <td>0</td>\n",
       "      <td>1</td>\n",
       "    </tr>\n",
       "    <tr>\n",
       "      <th>3</th>\n",
       "      <td>0</td>\n",
       "      <td>1</td>\n",
       "      <td>1</td>\n",
       "      <td>1</td>\n",
       "      <td>0</td>\n",
       "      <td>0</td>\n",
       "    </tr>\n",
       "    <tr>\n",
       "      <th>4</th>\n",
       "      <td>0</td>\n",
       "      <td>1</td>\n",
       "      <td>1</td>\n",
       "      <td>1</td>\n",
       "      <td>0</td>\n",
       "      <td>0</td>\n",
       "    </tr>\n",
       "    <tr>\n",
       "      <th>...</th>\n",
       "      <td>...</td>\n",
       "      <td>...</td>\n",
       "      <td>...</td>\n",
       "      <td>...</td>\n",
       "      <td>...</td>\n",
       "      <td>...</td>\n",
       "    </tr>\n",
       "    <tr>\n",
       "      <th>6682</th>\n",
       "      <td>1</td>\n",
       "      <td>0</td>\n",
       "      <td>0</td>\n",
       "      <td>1</td>\n",
       "      <td>1</td>\n",
       "      <td>0</td>\n",
       "    </tr>\n",
       "    <tr>\n",
       "      <th>6683</th>\n",
       "      <td>1</td>\n",
       "      <td>0</td>\n",
       "      <td>0</td>\n",
       "      <td>1</td>\n",
       "      <td>1</td>\n",
       "      <td>1</td>\n",
       "    </tr>\n",
       "    <tr>\n",
       "      <th>6684</th>\n",
       "      <td>1</td>\n",
       "      <td>0</td>\n",
       "      <td>0</td>\n",
       "      <td>1</td>\n",
       "      <td>1</td>\n",
       "      <td>1</td>\n",
       "    </tr>\n",
       "    <tr>\n",
       "      <th>6685</th>\n",
       "      <td>1</td>\n",
       "      <td>0</td>\n",
       "      <td>0</td>\n",
       "      <td>1</td>\n",
       "      <td>1</td>\n",
       "      <td>0</td>\n",
       "    </tr>\n",
       "    <tr>\n",
       "      <th>6686</th>\n",
       "      <td>1</td>\n",
       "      <td>0</td>\n",
       "      <td>0</td>\n",
       "      <td>0</td>\n",
       "      <td>1</td>\n",
       "      <td>0</td>\n",
       "    </tr>\n",
       "  </tbody>\n",
       "</table>\n",
       "<p>6660 rows × 6 columns</p>\n",
       "</div>"
      ],
      "text/plain": [
       "      churn label  intl active  intl plan  unlimited data plan  group  \\\n",
       "0               0            0          0                    1      0   \n",
       "1               0            0          0                    1      0   \n",
       "2               0            0          1                    1      0   \n",
       "3               0            1          1                    1      0   \n",
       "4               0            1          1                    1      0   \n",
       "...           ...          ...        ...                  ...    ...   \n",
       "6682            1            0          0                    1      1   \n",
       "6683            1            0          0                    1      1   \n",
       "6684            1            0          0                    1      1   \n",
       "6685            1            0          0                    1      1   \n",
       "6686            1            0          0                    0      1   \n",
       "\n",
       "      device protection & online backup  \n",
       "0                                     0  \n",
       "1                                     1  \n",
       "2                                     1  \n",
       "3                                     0  \n",
       "4                                     0  \n",
       "...                                 ...  \n",
       "6682                                  0  \n",
       "6683                                  1  \n",
       "6684                                  1  \n",
       "6685                                  0  \n",
       "6686                                  0  \n",
       "\n",
       "[6660 rows x 6 columns]"
      ]
     },
     "execution_count": 39,
     "metadata": {},
     "output_type": "execute_result"
    }
   ],
   "source": [
    "df_cleaned[cols_with_2_values]"
   ]
  },
  {
   "cell_type": "code",
   "execution_count": 40,
   "metadata": {},
   "outputs": [],
   "source": [
    "cat_columns = df_cleaned.select_dtypes('object').columns.to_list()"
   ]
  },
  {
   "cell_type": "code",
   "execution_count": 41,
   "metadata": {},
   "outputs": [
    {
     "data": {
      "text/plain": [
       "['customer id',\n",
       " 'state',\n",
       " 'phone number',\n",
       " 'gender',\n",
       " 'contract type',\n",
       " 'payment method',\n",
       " 'churn category',\n",
       " 'churn reason']"
      ]
     },
     "execution_count": 41,
     "metadata": {},
     "output_type": "execute_result"
    }
   ],
   "source": [
    "cat_columns"
   ]
  },
  {
   "cell_type": "code",
   "execution_count": 42,
   "metadata": {},
   "outputs": [
    {
     "data": {
      "text/plain": [
       "Index(['customer id', 'state', 'phone number', 'gender', 'contract type',\n",
       "       'payment method', 'churn category', 'churn reason'],\n",
       "      dtype='object')"
      ]
     },
     "execution_count": 42,
     "metadata": {},
     "output_type": "execute_result"
    }
   ],
   "source": [
    "df_cleaned[cat_columns].columns"
   ]
  },
  {
   "cell_type": "code",
   "execution_count": 43,
   "metadata": {},
   "outputs": [
    {
     "data": {
      "text/plain": [
       "array(['Female', 'Male', 'Prefer not to say'], dtype=object)"
      ]
     },
     "execution_count": 43,
     "metadata": {},
     "output_type": "execute_result"
    }
   ],
   "source": [
    "df_cleaned['gender'].unique()"
   ]
  },
  {
   "cell_type": "code",
   "execution_count": 44,
   "metadata": {},
   "outputs": [
    {
     "name": "stderr",
     "output_type": "stream",
     "text": [
      "C:\\Users\\DELL\\AppData\\Local\\Temp\\ipykernel_3076\\3962339055.py:2: SettingWithCopyWarning: \n",
      "A value is trying to be set on a copy of a slice from a DataFrame.\n",
      "Try using .loc[row_indexer,col_indexer] = value instead\n",
      "\n",
      "See the caveats in the documentation: https://pandas.pydata.org/pandas-docs/stable/user_guide/indexing.html#returning-a-view-versus-a-copy\n",
      "  df_cleaned['gender'] = df_cleaned['gender'].replace({\"Male\":1, \"Female\":2, \"Prefer not to say\":0})\n"
     ]
    }
   ],
   "source": [
    "#Male - 1, female - 2, prefer not to say - 0\n",
    "df_cleaned['gender'] = df_cleaned['gender'].replace({\"Male\":1, \"Female\":2, \"Prefer not to say\":0})"
   ]
  },
  {
   "cell_type": "code",
   "execution_count": 45,
   "metadata": {},
   "outputs": [
    {
     "data": {
      "text/plain": [
       "array([2, 1, 0], dtype=int64)"
      ]
     },
     "execution_count": 45,
     "metadata": {},
     "output_type": "execute_result"
    }
   ],
   "source": [
    "df_cleaned['gender'].unique()"
   ]
  },
  {
   "cell_type": "code",
   "execution_count": 46,
   "metadata": {},
   "outputs": [
    {
     "data": {
      "text/plain": [
       "array(['Month-to-Month', 'One Year', 'Two Year'], dtype=object)"
      ]
     },
     "execution_count": 46,
     "metadata": {},
     "output_type": "execute_result"
    }
   ],
   "source": [
    "df_cleaned['contract type'].unique()"
   ]
  },
  {
   "cell_type": "code",
   "execution_count": 47,
   "metadata": {},
   "outputs": [
    {
     "name": "stderr",
     "output_type": "stream",
     "text": [
      "C:\\Users\\DELL\\AppData\\Local\\Temp\\ipykernel_3076\\3670342255.py:2: SettingWithCopyWarning: \n",
      "A value is trying to be set on a copy of a slice from a DataFrame\n",
      "\n",
      "See the caveats in the documentation: https://pandas.pydata.org/pandas-docs/stable/user_guide/indexing.html#returning-a-view-versus-a-copy\n",
      "  df_cleaned['contract type'].replace({'Month-to-Month':0, 'One Year':1, 'Two Year':2}, inplace=True)\n"
     ]
    }
   ],
   "source": [
    "#'Month-to-Month':0, 'One Year':1, 'Two Year':2\n",
    "df_cleaned['contract type'].replace({'Month-to-Month':0, 'One Year':1, 'Two Year':2}, inplace=True)"
   ]
  },
  {
   "cell_type": "code",
   "execution_count": 48,
   "metadata": {},
   "outputs": [
    {
     "data": {
      "text/plain": [
       "array([0, 1, 2], dtype=int64)"
      ]
     },
     "execution_count": 48,
     "metadata": {},
     "output_type": "execute_result"
    }
   ],
   "source": [
    "df_cleaned['contract type'].unique()"
   ]
  },
  {
   "cell_type": "code",
   "execution_count": 49,
   "metadata": {},
   "outputs": [
    {
     "data": {
      "text/plain": [
       "contract type\n",
       "0    3400\n",
       "2    1791\n",
       "1    1469\n",
       "Name: count, dtype: int64"
      ]
     },
     "execution_count": 49,
     "metadata": {},
     "output_type": "execute_result"
    }
   ],
   "source": [
    "df_cleaned['contract type'].value_counts(dropna=False)"
   ]
  },
  {
   "cell_type": "code",
   "execution_count": 50,
   "metadata": {},
   "outputs": [
    {
     "data": {
      "text/plain": [
       "array(['Direct Debit', 'Paper Check', 'Credit Card'], dtype=object)"
      ]
     },
     "execution_count": 50,
     "metadata": {},
     "output_type": "execute_result"
    }
   ],
   "source": [
    "df_cleaned['payment method'].unique()"
   ]
  },
  {
   "cell_type": "code",
   "execution_count": 51,
   "metadata": {},
   "outputs": [
    {
     "name": "stderr",
     "output_type": "stream",
     "text": [
      "C:\\Users\\DELL\\AppData\\Local\\Temp\\ipykernel_3076\\2090962341.py:1: SettingWithCopyWarning: \n",
      "A value is trying to be set on a copy of a slice from a DataFrame\n",
      "\n",
      "See the caveats in the documentation: https://pandas.pydata.org/pandas-docs/stable/user_guide/indexing.html#returning-a-view-versus-a-copy\n",
      "  df_cleaned['payment method'].replace({'Direct Debit':0, 'Paper Check':1, 'Credit Card':2}, inplace=True)\n"
     ]
    }
   ],
   "source": [
    "df_cleaned['payment method'].replace({'Direct Debit':0, 'Paper Check':1, 'Credit Card':2}, inplace=True)"
   ]
  },
  {
   "cell_type": "code",
   "execution_count": 52,
   "metadata": {},
   "outputs": [
    {
     "data": {
      "text/plain": [
       "array([0, 1, 2], dtype=int64)"
      ]
     },
     "execution_count": 52,
     "metadata": {},
     "output_type": "execute_result"
    }
   ],
   "source": [
    "df_cleaned['payment method'].unique()"
   ]
  },
  {
   "cell_type": "code",
   "execution_count": 53,
   "metadata": {},
   "outputs": [
    {
     "data": {
      "text/plain": [
       "array(['Not Churned', 'Competitor', 'Other', 'Attitude',\n",
       "       'Dissatisfaction', 'Price'], dtype=object)"
      ]
     },
     "execution_count": 53,
     "metadata": {},
     "output_type": "execute_result"
    }
   ],
   "source": [
    "df_cleaned['churn category'].unique()"
   ]
  },
  {
   "cell_type": "code",
   "execution_count": 54,
   "metadata": {},
   "outputs": [
    {
     "name": "stderr",
     "output_type": "stream",
     "text": [
      "C:\\Users\\DELL\\AppData\\Local\\Temp\\ipykernel_3076\\2881075456.py:1: SettingWithCopyWarning: \n",
      "A value is trying to be set on a copy of a slice from a DataFrame\n",
      "\n",
      "See the caveats in the documentation: https://pandas.pydata.org/pandas-docs/stable/user_guide/indexing.html#returning-a-view-versus-a-copy\n",
      "  df_cleaned['churn category'].replace({'Not Churned':0, 'Competitor':1, 'Attitude':2, 'Dissatisfaction':3, 'Price':4, 'Other':5}, inplace=True)\n"
     ]
    }
   ],
   "source": [
    "df_cleaned['churn category'].replace({'Not Churned':0, 'Competitor':1, 'Attitude':2, 'Dissatisfaction':3, 'Price':4, 'Other':5}, inplace=True)"
   ]
  },
  {
   "cell_type": "code",
   "execution_count": 55,
   "metadata": {},
   "outputs": [
    {
     "data": {
      "text/plain": [
       "array([0, 1, 5, 2, 3, 4], dtype=int64)"
      ]
     },
     "execution_count": 55,
     "metadata": {},
     "output_type": "execute_result"
    }
   ],
   "source": [
    "df_cleaned['churn category'].unique()"
   ]
  },
  {
   "cell_type": "code",
   "execution_count": 56,
   "metadata": {},
   "outputs": [
    {
     "data": {
      "text/plain": [
       "Index(['customer id', 'state', 'phone number', 'churn reason'], dtype='object')"
      ]
     },
     "execution_count": 56,
     "metadata": {},
     "output_type": "execute_result"
    }
   ],
   "source": [
    "df_cleaned.select_dtypes('object').columns"
   ]
  },
  {
   "cell_type": "code",
   "execution_count": 57,
   "metadata": {},
   "outputs": [],
   "source": [
    "df_features = df_cleaned.drop(columns = 'churn reason')"
   ]
  },
  {
   "cell_type": "code",
   "execution_count": 58,
   "metadata": {},
   "outputs": [],
   "source": [
    "df_features = df_cleaned.select_dtypes('number')"
   ]
  },
  {
   "cell_type": "code",
   "execution_count": 59,
   "metadata": {},
   "outputs": [
    {
     "data": {
      "text/html": [
       "<div>\n",
       "<style scoped>\n",
       "    .dataframe tbody tr th:only-of-type {\n",
       "        vertical-align: middle;\n",
       "    }\n",
       "\n",
       "    .dataframe tbody tr th {\n",
       "        vertical-align: top;\n",
       "    }\n",
       "\n",
       "    .dataframe thead th {\n",
       "        text-align: right;\n",
       "    }\n",
       "</style>\n",
       "<table border=\"1\" class=\"dataframe\">\n",
       "  <thead>\n",
       "    <tr style=\"text-align: right;\">\n",
       "      <th></th>\n",
       "      <th>churn label</th>\n",
       "      <th>account length (in months)</th>\n",
       "      <th>local calls</th>\n",
       "      <th>local mins</th>\n",
       "      <th>intl calls</th>\n",
       "      <th>intl mins</th>\n",
       "      <th>intl active</th>\n",
       "      <th>intl plan</th>\n",
       "      <th>extra international charges</th>\n",
       "      <th>customer service calls</th>\n",
       "      <th>...</th>\n",
       "      <th>gender</th>\n",
       "      <th>age</th>\n",
       "      <th>group</th>\n",
       "      <th>number of customers in group</th>\n",
       "      <th>device protection &amp; online backup</th>\n",
       "      <th>contract type</th>\n",
       "      <th>payment method</th>\n",
       "      <th>monthly charge</th>\n",
       "      <th>total charges</th>\n",
       "      <th>churn category</th>\n",
       "    </tr>\n",
       "  </thead>\n",
       "  <tbody>\n",
       "    <tr>\n",
       "      <th>0</th>\n",
       "      <td>0</td>\n",
       "      <td>1</td>\n",
       "      <td>3</td>\n",
       "      <td>8.0</td>\n",
       "      <td>0.0</td>\n",
       "      <td>0.0</td>\n",
       "      <td>0</td>\n",
       "      <td>0</td>\n",
       "      <td>0.0</td>\n",
       "      <td>0</td>\n",
       "      <td>...</td>\n",
       "      <td>2</td>\n",
       "      <td>35</td>\n",
       "      <td>0</td>\n",
       "      <td>0</td>\n",
       "      <td>0</td>\n",
       "      <td>0</td>\n",
       "      <td>0</td>\n",
       "      <td>10</td>\n",
       "      <td>10</td>\n",
       "      <td>0</td>\n",
       "    </tr>\n",
       "    <tr>\n",
       "      <th>1</th>\n",
       "      <td>0</td>\n",
       "      <td>33</td>\n",
       "      <td>179</td>\n",
       "      <td>431.3</td>\n",
       "      <td>0.0</td>\n",
       "      <td>0.0</td>\n",
       "      <td>0</td>\n",
       "      <td>0</td>\n",
       "      <td>0.0</td>\n",
       "      <td>0</td>\n",
       "      <td>...</td>\n",
       "      <td>1</td>\n",
       "      <td>49</td>\n",
       "      <td>0</td>\n",
       "      <td>0</td>\n",
       "      <td>1</td>\n",
       "      <td>1</td>\n",
       "      <td>1</td>\n",
       "      <td>21</td>\n",
       "      <td>703</td>\n",
       "      <td>0</td>\n",
       "    </tr>\n",
       "    <tr>\n",
       "      <th>2</th>\n",
       "      <td>0</td>\n",
       "      <td>44</td>\n",
       "      <td>82</td>\n",
       "      <td>217.6</td>\n",
       "      <td>0.0</td>\n",
       "      <td>0.0</td>\n",
       "      <td>0</td>\n",
       "      <td>1</td>\n",
       "      <td>0.0</td>\n",
       "      <td>0</td>\n",
       "      <td>...</td>\n",
       "      <td>1</td>\n",
       "      <td>51</td>\n",
       "      <td>0</td>\n",
       "      <td>0</td>\n",
       "      <td>1</td>\n",
       "      <td>1</td>\n",
       "      <td>0</td>\n",
       "      <td>23</td>\n",
       "      <td>1014</td>\n",
       "      <td>0</td>\n",
       "    </tr>\n",
       "    <tr>\n",
       "      <th>3</th>\n",
       "      <td>0</td>\n",
       "      <td>10</td>\n",
       "      <td>47</td>\n",
       "      <td>111.6</td>\n",
       "      <td>60.0</td>\n",
       "      <td>71.0</td>\n",
       "      <td>1</td>\n",
       "      <td>1</td>\n",
       "      <td>0.0</td>\n",
       "      <td>0</td>\n",
       "      <td>...</td>\n",
       "      <td>2</td>\n",
       "      <td>41</td>\n",
       "      <td>0</td>\n",
       "      <td>0</td>\n",
       "      <td>0</td>\n",
       "      <td>0</td>\n",
       "      <td>1</td>\n",
       "      <td>17</td>\n",
       "      <td>177</td>\n",
       "      <td>0</td>\n",
       "    </tr>\n",
       "    <tr>\n",
       "      <th>4</th>\n",
       "      <td>0</td>\n",
       "      <td>62</td>\n",
       "      <td>184</td>\n",
       "      <td>621.2</td>\n",
       "      <td>310.0</td>\n",
       "      <td>694.4</td>\n",
       "      <td>1</td>\n",
       "      <td>1</td>\n",
       "      <td>0.0</td>\n",
       "      <td>0</td>\n",
       "      <td>...</td>\n",
       "      <td>1</td>\n",
       "      <td>51</td>\n",
       "      <td>0</td>\n",
       "      <td>0</td>\n",
       "      <td>0</td>\n",
       "      <td>1</td>\n",
       "      <td>0</td>\n",
       "      <td>28</td>\n",
       "      <td>1720</td>\n",
       "      <td>0</td>\n",
       "    </tr>\n",
       "  </tbody>\n",
       "</table>\n",
       "<p>5 rows × 23 columns</p>\n",
       "</div>"
      ],
      "text/plain": [
       "   churn label  account length (in months)  local calls  local mins  \\\n",
       "0            0                           1            3         8.0   \n",
       "1            0                          33          179       431.3   \n",
       "2            0                          44           82       217.6   \n",
       "3            0                          10           47       111.6   \n",
       "4            0                          62          184       621.2   \n",
       "\n",
       "   intl calls  intl mins  intl active  intl plan  extra international charges  \\\n",
       "0         0.0        0.0            0          0                          0.0   \n",
       "1         0.0        0.0            0          0                          0.0   \n",
       "2         0.0        0.0            0          1                          0.0   \n",
       "3        60.0       71.0            1          1                          0.0   \n",
       "4       310.0      694.4            1          1                          0.0   \n",
       "\n",
       "   customer service calls  ...  gender  age  group  \\\n",
       "0                       0  ...       2   35      0   \n",
       "1                       0  ...       1   49      0   \n",
       "2                       0  ...       1   51      0   \n",
       "3                       0  ...       2   41      0   \n",
       "4                       0  ...       1   51      0   \n",
       "\n",
       "   number of customers in group  device protection & online backup  \\\n",
       "0                             0                                  0   \n",
       "1                             0                                  1   \n",
       "2                             0                                  1   \n",
       "3                             0                                  0   \n",
       "4                             0                                  0   \n",
       "\n",
       "   contract type  payment method  monthly charge  total charges  \\\n",
       "0              0               0              10             10   \n",
       "1              1               1              21            703   \n",
       "2              1               0              23           1014   \n",
       "3              0               1              17            177   \n",
       "4              1               0              28           1720   \n",
       "\n",
       "   churn category  \n",
       "0               0  \n",
       "1               0  \n",
       "2               0  \n",
       "3               0  \n",
       "4               0  \n",
       "\n",
       "[5 rows x 23 columns]"
      ]
     },
     "execution_count": 59,
     "metadata": {},
     "output_type": "execute_result"
    }
   ],
   "source": [
    "df_features.head()"
   ]
  },
  {
   "cell_type": "code",
   "execution_count": 60,
   "metadata": {},
   "outputs": [],
   "source": [
    "cols = df_features.columns.to_list()\n",
    "cols.remove('churn label')"
   ]
  },
  {
   "cell_type": "code",
   "execution_count": 64,
   "metadata": {},
   "outputs": [
    {
     "name": "stdout",
     "output_type": "stream",
     "text": [
      "<class 'pandas.core.frame.DataFrame'>\n",
      "Index: 6660 entries, 0 to 6686\n",
      "Data columns (total 23 columns):\n",
      " #   Column                             Non-Null Count  Dtype  \n",
      "---  ------                             --------------  -----  \n",
      " 0   churn label                        6660 non-null   int32  \n",
      " 1   account length (in months)         6660 non-null   int64  \n",
      " 2   local calls                        6660 non-null   int64  \n",
      " 3   local mins                         6660 non-null   float64\n",
      " 4   intl calls                         6660 non-null   float64\n",
      " 5   intl mins                          6660 non-null   float64\n",
      " 6   intl active                        6660 non-null   int32  \n",
      " 7   intl plan                          6660 non-null   int32  \n",
      " 8   extra international charges        6660 non-null   float64\n",
      " 9   customer service calls             6660 non-null   int64  \n",
      " 10  avg monthly gb download            6660 non-null   int64  \n",
      " 11  unlimited data plan                6660 non-null   int32  \n",
      " 12  extra data charges                 6660 non-null   int64  \n",
      " 13  gender                             6660 non-null   int64  \n",
      " 14  age                                6660 non-null   int64  \n",
      " 15  group                              6660 non-null   int32  \n",
      " 16  number of customers in group       6660 non-null   int64  \n",
      " 17  device protection & online backup  6660 non-null   int32  \n",
      " 18  contract type                      6660 non-null   int64  \n",
      " 19  payment method                     6660 non-null   int64  \n",
      " 20  monthly charge                     6660 non-null   int64  \n",
      " 21  total charges                      6660 non-null   int64  \n",
      " 22  churn category                     6660 non-null   int64  \n",
      "dtypes: float64(4), int32(6), int64(13)\n",
      "memory usage: 1.1 MB\n"
     ]
    }
   ],
   "source": [
    "df_features.info()"
   ]
  },
  {
   "cell_type": "code",
   "execution_count": 67,
   "metadata": {},
   "outputs": [
    {
     "data": {
      "text/plain": [
       "array([0, 1, 5, 2, 3, 4], dtype=int64)"
      ]
     },
     "execution_count": 67,
     "metadata": {},
     "output_type": "execute_result"
    }
   ],
   "source": [
    "df_features['churn category'].unique()"
   ]
  },
  {
   "cell_type": "code",
   "execution_count": 101,
   "metadata": {},
   "outputs": [],
   "source": [
    "X = df_features.drop(['churn label', 'churn category', 'gender'], axis=1)\n",
    "y = df_features['churn label']"
   ]
  },
  {
   "cell_type": "code",
   "execution_count": 102,
   "metadata": {},
   "outputs": [],
   "source": [
    "from sklearn.model_selection import train_test_split, GridSearchCV\n",
    "from sklearn.preprocessing import StandardScaler\n",
    "from sklearn.metrics import accuracy_score, classification_report, roc_auc_score\n",
    "from sklearn.linear_model import LogisticRegression\n",
    "from sklearn.ensemble import RandomForestClassifier\n",
    "from xgboost import XGBClassifier\n",
    "import pickle"
   ]
  },
  {
   "cell_type": "code",
   "execution_count": 162,
   "metadata": {},
   "outputs": [
    {
     "name": "stdout",
     "output_type": "stream",
     "text": [
      "Training and tuning Logistic Regression (Elastic Net)...\n",
      "Fitting 5 folds for each of 12 candidates, totalling 60 fits\n",
      "\n",
      "Logistic Regression (Elastic Net) Performance:\n",
      "Best Parameters: {'C': 0.1, 'l1_ratio': 0.3}\n",
      "Accuracy: 0.88\n",
      "ROC-AUC: 0.94\n",
      "              precision    recall  f1-score   support\n",
      "\n",
      "           0       0.91      0.94      0.93      1519\n",
      "           1       0.79      0.71      0.75       479\n",
      "\n",
      "    accuracy                           0.88      1998\n",
      "   macro avg       0.85      0.82      0.84      1998\n",
      "weighted avg       0.88      0.88      0.88      1998\n",
      "\n",
      "--------------------------------------------------\n",
      "Training and tuning Random Forest...\n",
      "Fitting 5 folds for each of 27 candidates, totalling 135 fits\n",
      "\n",
      "Random Forest Performance:\n",
      "Best Parameters: {'max_depth': 10, 'min_samples_split': 2, 'n_estimators': 100}\n",
      "Accuracy: 0.90\n",
      "ROC-AUC: 0.95\n",
      "              precision    recall  f1-score   support\n",
      "\n",
      "           0       0.92      0.96      0.94      1519\n",
      "           1       0.85      0.73      0.78       479\n",
      "\n",
      "    accuracy                           0.90      1998\n",
      "   macro avg       0.88      0.84      0.86      1998\n",
      "weighted avg       0.90      0.90      0.90      1998\n",
      "\n",
      "--------------------------------------------------\n",
      "Training and tuning XGBoost...\n",
      "Fitting 5 folds for each of 27 candidates, totalling 135 fits\n",
      "\n",
      "XGBoost Performance:\n",
      "Best Parameters: {'learning_rate': 0.1, 'max_depth': 5, 'n_estimators': 100}\n",
      "Accuracy: 0.91\n",
      "ROC-AUC: 0.95\n",
      "              precision    recall  f1-score   support\n",
      "\n",
      "           0       0.93      0.95      0.94      1519\n",
      "           1       0.83      0.76      0.80       479\n",
      "\n",
      "    accuracy                           0.91      1998\n",
      "   macro avg       0.88      0.86      0.87      1998\n",
      "weighted avg       0.91      0.91      0.91      1998\n",
      "\n",
      "--------------------------------------------------\n",
      "\n",
      "Summary of Best Models:\n",
      "Logistic Regression (Elastic Net) -> Accuracy: 0.88, ROC-AUC: 0.94\n",
      "Random Forest -> Accuracy: 0.90, ROC-AUC: 0.95\n",
      "XGBoost -> Accuracy: 0.91, ROC-AUC: 0.95\n"
     ]
    }
   ],
   "source": [
    "# Splitting the dataset\n",
    "X_train, X_test, y_train, y_test = train_test_split(X, y, test_size=0.3, random_state=42)\n",
    "\n",
    "# Scaling the features\n",
    "scaler = StandardScaler()\n",
    "X_train = scaler.fit_transform(X_train)\n",
    "X_test = scaler.transform(X_test)\n",
    "\n",
    "# Define the models and their respective parameter grids for tuning\n",
    "models = {\n",
    "    'Logistic Regression (Elastic Net)': {\n",
    "        'model': LogisticRegression(solver='saga', penalty='elasticnet', max_iter=200, random_state=42),\n",
    "        'params': {\n",
    "            'C': [0.01, 0.1, 1, 10],\n",
    "            'l1_ratio': [0.3, 0.5, 0.7]\n",
    "        }\n",
    "    },\n",
    "    'Random Forest': {\n",
    "        'model': RandomForestClassifier(random_state=42),\n",
    "        'params': {\n",
    "            'n_estimators': [50, 100, 150],\n",
    "            'max_depth': [5, 10, 20],\n",
    "            'min_samples_split': [2, 5, 10]\n",
    "        }\n",
    "    },\n",
    "    'XGBoost': {\n",
    "        'model': XGBClassifier(random_state=42),\n",
    "        'params': {\n",
    "            'n_estimators': [50, 100, 150],\n",
    "            'max_depth': [5, 10, 20],\n",
    "            'learning_rate': [0.01, 0.1, 0.2]\n",
    "        }\n",
    "    }\n",
    "}\n",
    "\n",
    "# Train and evaluate each model using a loop\n",
    "best_models = {}\n",
    "for name, model_info in models.items():\n",
    "    print(f\"Training and tuning {name}...\")\n",
    "    \n",
    "    # Grid search for hyperparameter tuning\n",
    "    grid_search = GridSearchCV(model_info['model'], model_info['params'], cv=5, scoring='accuracy', verbose=1)\n",
    "    grid_search.fit(X_train, y_train)\n",
    "    \n",
    "    # Best model after tuning\n",
    "    best_model = grid_search.best_estimator_\n",
    "    best_models[name] = best_model\n",
    "    \n",
    "    # Predictions\n",
    "    y_pred = best_model.predict(X_test)\n",
    "    accuracy = accuracy_score(y_test, y_pred)\n",
    "    roc_auc = roc_auc_score(y_test, best_model.predict_proba(X_test)[:, 1])\n",
    "    \n",
    "    print(f\"\\n{name} Performance:\")\n",
    "    print(f\"Best Parameters: {grid_search.best_params_}\")\n",
    "    print(f\"Accuracy: {accuracy:.2f}\")\n",
    "    print(f\"ROC-AUC: {roc_auc:.2f}\")\n",
    "    print(classification_report(y_test, y_pred))\n",
    "    print(\"-\" * 50)\n",
    "\n",
    "# Compare the best models based on accuracy and ROC-AUC\n",
    "print(\"\\nSummary of Best Models:\")\n",
    "for name, model in best_models.items():\n",
    "    y_pred = model.predict(X_test)\n",
    "    accuracy = accuracy_score(y_test, y_pred)\n",
    "    roc_auc = roc_auc_score(y_test, model.predict_proba(X_test)[:, 1])\n",
    "    \n",
    "    print(f\"{name} -> Accuracy: {accuracy:.2f}, ROC-AUC: {roc_auc:.2f}\")"
   ]
  },
  {
   "cell_type": "code",
   "execution_count": 104,
   "metadata": {},
   "outputs": [
    {
     "data": {
      "text/plain": [
       "{'Logistic Regression (Elastic Net)': LogisticRegression(C=0.1, l1_ratio=0.3, max_iter=200, penalty='elasticnet',\n",
       "                    random_state=42, solver='saga'),\n",
       " 'Random Forest': RandomForestClassifier(max_depth=10, random_state=42),\n",
       " 'XGBoost': XGBClassifier(base_score=None, booster=None, callbacks=None,\n",
       "               colsample_bylevel=None, colsample_bynode=None,\n",
       "               colsample_bytree=None, device=None, early_stopping_rounds=None,\n",
       "               enable_categorical=False, eval_metric=None, feature_types=None,\n",
       "               gamma=None, grow_policy=None, importance_type=None,\n",
       "               interaction_constraints=None, learning_rate=0.1, max_bin=None,\n",
       "               max_cat_threshold=None, max_cat_to_onehot=None,\n",
       "               max_delta_step=None, max_depth=5, max_leaves=None,\n",
       "               min_child_weight=None, missing=nan, monotone_constraints=None,\n",
       "               multi_strategy=None, n_estimators=100, n_jobs=None,\n",
       "               num_parallel_tree=None, random_state=42, ...)}"
      ]
     },
     "execution_count": 104,
     "metadata": {},
     "output_type": "execute_result"
    }
   ],
   "source": [
    "best_models"
   ]
  },
  {
   "cell_type": "code",
   "execution_count": 110,
   "metadata": {},
   "outputs": [],
   "source": [
    "best_XGB = best_models['XGBoost']"
   ]
  },
  {
   "cell_type": "code",
   "execution_count": 111,
   "metadata": {},
   "outputs": [],
   "source": [
    "with open('best_XGB_model.pkl', 'wb') as f:\n",
    "    pickle.dump(best_XGB, f)"
   ]
  }
 ],
 "metadata": {
  "kernelspec": {
   "display_name": "Python 3 (ipykernel)",
   "language": "python",
   "name": "python3"
  },
  "language_info": {
   "codemirror_mode": {
    "name": "ipython",
    "version": 3
   },
   "file_extension": ".py",
   "mimetype": "text/x-python",
   "name": "python",
   "nbconvert_exporter": "python",
   "pygments_lexer": "ipython3",
   "version": "3.11.7"
  }
 },
 "nbformat": 4,
 "nbformat_minor": 4
}
